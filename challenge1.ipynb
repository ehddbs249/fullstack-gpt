{
 "cells": [
  {
   "cell_type": "code",
   "execution_count": 29,
   "metadata": {},
   "outputs": [],
   "source": [
    "from langchain.chat_models import ChatOpenAI\n",
    "from langchain.prompts import ChatPromptTemplate\n",
    "from langchain.callbacks import StreamingStdOutCallbackHandler\n",
    "\n",
    "chat = ChatOpenAI(model_name=\"gpt-4o-mini\",\n",
    "    temperature=0.1, # 모델의 출력 문장의 창의성 조절\n",
    "    streaming=True,\n",
    "    callbacks=[StreamingStdOutCallbackHandler()],\n",
    ")"
   ]
  },
  {
   "cell_type": "code",
   "execution_count": 30,
   "metadata": {},
   "outputs": [],
   "source": [
    "from langchain.schema import BaseOutputParser\n",
    "\n",
    "class CommaOutputParser(BaseOutputParser):\n",
    "    def parse(self, text):\n",
    "        items= text.strip().split(\",\")\n",
    "        return list(map(str.strip, items))"
   ]
  },
  {
   "cell_type": "code",
   "execution_count": 31,
   "metadata": {},
   "outputs": [
    {
     "name": "stdout",
     "output_type": "stream",
     "text": [
      "In the realm of code where logic flows,  \n",
      "Java stands tall, as the world well knows.  \n",
      "With syntax so clear, and structure so neat,  \n",
      "It brews up solutions, a programmer's treat.  \n",
      "\n",
      "From the depths of the heap to the stack's embrace,  \n",
      "Object-oriented dreams find their rightful place.  \n",
      "Classes and objects, a dance so divine,  \n",
      "Inheritance whispers, \"Your code can align.\"  \n",
      "\n",
      "With a JVM heart, it runs far and wide,  \n",
      "Cross-platform magic, a seamless ride.  \n",
      "Compile it once, let it run anywhere,  \n",
      "In the world of tech, it’s a breath of fresh air.  \n",
      "\n",
      "Garbage collection, a tidy affair,  \n",
      "Memory managed with utmost care.  \n",
      "Threads intertwine in a synchronized song,  \n",
      "Concurrency’s rhythm, where all can belong.  \n",
      "\n",
      "From Android devices to servers that hum,  \n",
      "Java’s the backbone, where innovations come.  \n",
      "With libraries vast, and frameworks galore,  \n",
      "Spring and Hibernate open the door.  \n",
      "\n",
      "So here’s to the language, robust and refined,  \n",
      "In the tapestry of coding, forever entwined.  \n",
      "With every keystroke, a legacy grows,  \n",
      "In the heart of the coder, Java forever glows.This poem celebrates the programming language Java, highlighting its strengths and features in a lyrical manner. \n",
      "\n",
      "In the first stanza, the poet introduces Java as a prominent and well-regarded language in the programming world, emphasizing its clear syntax and structured approach that make it enjoyable for programmers to use. The phrase \"brews up solutions\" suggests that Java is effective in solving problems, akin to crafting a perfect brew.\n",
      "\n",
      "The second stanza delves into Java's object-oriented programming (OOP) paradigm, where concepts like classes and objects are personified as a \"dance.\" This illustrates the elegance and organization that OOP brings to coding. The mention of inheritance hints at the ability to create new classes based on existing ones, promoting code reuse and organization.\n",
      "\n",
      "The third stanza focuses on Java's versatility, particularly its ability to run on any platform thanks to the Java Virtual Machine (JVM). The idea of compiling once and running anywhere underscores Java's \"write once, run anywhere\" philosophy, which is a significant advantage in software development.\n",
      "\n",
      "In the fourth stanza, the poem addresses Java's memory management features, specifically garbage collection, which automatically handles memory allocation and deallocation, ensuring that resources are used efficiently. The reference to threads and concurrency highlights Java's capability to handle multiple tasks simultaneously, which is essential for modern applications.\n",
      "\n",
      "The fifth stanza illustrates Java's widespread application, from mobile devices (like Android) to server-side programming, positioning it as a foundational technology in the tech industry. The mention of libraries and frameworks, such as Spring and Hibernate, points to the extensive ecosystem that supports Java development, making it easier for developers to build robust applications.\n",
      "\n",
      "Finally, the concluding stanza pays homage to Java as a language that is both strong and elegant, suggesting that it has become an integral part of the coding landscape. The imagery of a \"legacy\" growing with every keystroke reflects the lasting impact Java has had on programmers and the software industry as a whole, symbolizing its enduring relevance and influence."
     ]
    },
    {
     "data": {
      "text/plain": [
       "AIMessageChunk(content='This poem celebrates the programming language Java, highlighting its strengths and features in a lyrical manner. \\n\\nIn the first stanza, the poet introduces Java as a prominent and well-regarded language in the programming world, emphasizing its clear syntax and structured approach that make it enjoyable for programmers to use. The phrase \"brews up solutions\" suggests that Java is effective in solving problems, akin to crafting a perfect brew.\\n\\nThe second stanza delves into Java\\'s object-oriented programming (OOP) paradigm, where concepts like classes and objects are personified as a \"dance.\" This illustrates the elegance and organization that OOP brings to coding. The mention of inheritance hints at the ability to create new classes based on existing ones, promoting code reuse and organization.\\n\\nThe third stanza focuses on Java\\'s versatility, particularly its ability to run on any platform thanks to the Java Virtual Machine (JVM). The idea of compiling once and running anywhere underscores Java\\'s \"write once, run anywhere\" philosophy, which is a significant advantage in software development.\\n\\nIn the fourth stanza, the poem addresses Java\\'s memory management features, specifically garbage collection, which automatically handles memory allocation and deallocation, ensuring that resources are used efficiently. The reference to threads and concurrency highlights Java\\'s capability to handle multiple tasks simultaneously, which is essential for modern applications.\\n\\nThe fifth stanza illustrates Java\\'s widespread application, from mobile devices (like Android) to server-side programming, positioning it as a foundational technology in the tech industry. The mention of libraries and frameworks, such as Spring and Hibernate, points to the extensive ecosystem that supports Java development, making it easier for developers to build robust applications.\\n\\nFinally, the concluding stanza pays homage to Java as a language that is both strong and elegant, suggesting that it has become an integral part of the coding landscape. The imagery of a \"legacy\" growing with every keystroke reflects the lasting impact Java has had on programmers and the software industry as a whole, symbolizing its enduring relevance and influence.')"
      ]
     },
     "execution_count": 31,
     "metadata": {},
     "output_type": "execute_result"
    }
   ],
   "source": [
    "# 프로그래밍 언어에 대한 시를 작성하는 템플릿\n",
    "poem_template = ChatPromptTemplate.from_messages([\n",
    "    (\"system\",\"You are a poetry expert specialized in writing poems about programming languages. You are asked to write a poem about {topic}. You only reply with the poem. Do not reply with anything else.\"),\n",
    "    (\"human\",\"Can you write a poem about {topic}?\"),\n",
    "])\n",
    "\n",
    "# 시를 설명하는 템플릿\n",
    "explanation_template = ChatPromptTemplate.from_messages([\n",
    "    (\"system\",\"You are a poetry expert specialized in explaining poems about programming languages. You are asked to explain a poem about {topic}. You only reply with the explanation. Do not reply with anything else.\"),\n",
    "    (\"human\",\"Can you explain this poem about {topic}: {poem}\"),\n",
    "])\n",
    "\n",
    "# 시 작성 체인\n",
    "poem_chain = poem_template | chat \n",
    "\n",
    "# 시 설명 체인 (시를 입력으로 받음)\n",
    "explanation_chain = explanation_template | chat\n",
    "\n",
    "# RunnablePassthrough를 사용하여 topic을 전달\n",
    "from langchain.schema.runnable import RunnablePassthrough\n",
    "\n",
    "final_chain = {\n",
    "    \"poem\": poem_chain,\n",
    "    \"topic\": RunnablePassthrough()\n",
    "} | explanation_chain\n",
    "\n",
    "final_chain.invoke({\n",
    "    \"topic\": \"java\"\n",
    "})\n",
    "\n"
   ]
  }
 ],
 "metadata": {
  "kernelspec": {
   "display_name": "fullstack-gpt",
   "language": "python",
   "name": "python3"
  },
  "language_info": {
   "codemirror_mode": {
    "name": "ipython",
    "version": 3
   },
   "file_extension": ".py",
   "mimetype": "text/x-python",
   "name": "python",
   "nbconvert_exporter": "python",
   "pygments_lexer": "ipython3",
   "version": "3.11.5"
  }
 },
 "nbformat": 4,
 "nbformat_minor": 2
}
